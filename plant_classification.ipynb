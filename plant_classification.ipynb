{
 "cells": [
  {
   "cell_type": "code",
   "execution_count": 6,
   "metadata": {},
   "outputs": [],
   "source": [
    "import numpy as np\n",
    "import torch\n",
    "import torch.nn as nn\n",
    "import torch.optim as optim\n",
    "import matplotlib.pyplot as plt\n",
    "import os\n",
    "\n",
    "%matplotlib inline"
   ]
  },
  {
   "cell_type": "code",
   "execution_count": 5,
   "metadata": {},
   "outputs": [
    {
     "ename": "ValueError",
     "evalue": "list.remove(x): x not in list",
     "output_type": "error",
     "traceback": [
      "\u001b[0;31m---------------------------------------------------------------------------\u001b[0m",
      "\u001b[0;31mValueError\u001b[0m                                Traceback (most recent call last)",
      "\u001b[0;32m<ipython-input-5-08e01afc2edb>\u001b[0m in \u001b[0;36m<module>\u001b[0;34m\u001b[0m\n\u001b[1;32m      1\u001b[0m \u001b[0;32mimport\u001b[0m \u001b[0msys\u001b[0m\u001b[0;34m\u001b[0m\u001b[0m\n\u001b[0;32m----> 2\u001b[0;31m \u001b[0msys\u001b[0m\u001b[0;34m.\u001b[0m\u001b[0mpath\u001b[0m\u001b[0;34m.\u001b[0m\u001b[0mremove\u001b[0m\u001b[0;34m(\u001b[0m\u001b[0;34m'/opt/ros/kinetic/lib/python2.7/dist-packages'\u001b[0m\u001b[0;34m)\u001b[0m\u001b[0;34m\u001b[0m\u001b[0m\n\u001b[0m\u001b[1;32m      3\u001b[0m \u001b[0;32mimport\u001b[0m \u001b[0mcv2\u001b[0m\u001b[0;34m\u001b[0m\u001b[0m\n\u001b[1;32m      4\u001b[0m \u001b[0;32mimport\u001b[0m \u001b[0mos\u001b[0m\u001b[0;34m\u001b[0m\u001b[0m\n",
      "\u001b[0;31mValueError\u001b[0m: list.remove(x): x not in list"
     ]
    }
   ],
   "source": [
    "import sys\n",
    "sys.path.remove('/opt/ros/kinetic/lib/python2.7/dist-packages')\n",
    "import cv2"
   ]
  },
  {
   "cell_type": "code",
   "execution_count": 25,
   "metadata": {},
   "outputs": [],
   "source": [
    "### 图像预处理\n",
    "def preprocess(file_name):\n",
    "    img = cv2.imread(file_name)\n",
    "    img = cv2.cvtColor(img, cv2.COLOR_BGR2HSV)\n",
    "    chs = cv2.split(img)\n",
    "    hue = ((chs[0] > 30) * 1) * chs[0]\n",
    "    res = ((hue < 50) * 1) * hue\n",
    "\n",
    "    kernel = cv2.getStructuringElement(cv2.MORPH_RECT, (3, 3))\n",
    "    res = cv2.morphologyEx(res.astype(np.float32), cv2.MORPH_ERODE, kernel)\n",
    "    resize = cv2.resize(res, (196, 196))\n",
    "    resize = resize.reshape((1, 196, 196))\n",
    "    resize = cv2.normalize(resize, resize, 0, 255, cv2.NORM_MINMAX)\n",
    "\n",
    "    cv2.imwrite(\"test.jpg\", resize[0])\n",
    "\n",
    "    return resize"
   ]
  },
  {
   "cell_type": "code",
   "execution_count": 18,
   "metadata": {},
   "outputs": [
    {
     "name": "stdout",
     "output_type": "stream",
     "text": [
      "/media/lor/data/data/plant-seedlings-classification/train/Cleavers\n",
      "/media/lor/data/data/plant-seedlings-classification/train/Maize\n",
      "/media/lor/data/data/plant-seedlings-classification/train/Fat Hen\n",
      "/media/lor/data/data/plant-seedlings-classification/train/Sugar beet\n",
      "/media/lor/data/data/plant-seedlings-classification/train/Charlock\n",
      "/media/lor/data/data/plant-seedlings-classification/train/Loose Silky-bent\n",
      "/media/lor/data/data/plant-seedlings-classification/train/Small-flowered Cranesbill\n",
      "/media/lor/data/data/plant-seedlings-classification/train/Common Chickweed\n",
      "/media/lor/data/data/plant-seedlings-classification/train/Shepherds Purse\n",
      "/media/lor/data/data/plant-seedlings-classification/train/Black-grass\n",
      "/media/lor/data/data/plant-seedlings-classification/train/Scentless Mayweed\n",
      "/media/lor/data/data/plant-seedlings-classification/train/Common wheat\n",
      "4750\n",
      "4750\n"
     ]
    }
   ],
   "source": [
    "train_path = '/media/lor/data/data/plant-seedlings-classification/train'\n",
    "train_samples = []\n",
    "train_labels = []\n",
    "label_to_idx = {}\n",
    "for (i, cat) in enumerate(os.listdir(train_path)):\n",
    "    label_to_idx[cat] = i\n",
    "    cat_path = os.path.join(train_path, cat)\n",
    "    print(cat_path)\n",
    "    for item in os.listdir(cat_path):\n",
    "        train_labels.append(i)\n",
    "        train_samples.append(os.path.join(cat_path, item))\n",
    "print(len(train_labels))\n",
    "print(len(train_samples))"
   ]
  },
  {
   "cell_type": "code",
   "execution_count": 27,
   "metadata": {},
   "outputs": [],
   "source": [
    "class PlantDS(torch.utils.data.Dataset):\n",
    "    def __init__(self, samples, targets):\n",
    "        self.samples = samples\n",
    "        self.targets = targets\n",
    "        \n",
    "    def __len__(self):\n",
    "        return len(self.targets)\n",
    "    \n",
    "    def __getitem__(self, idx):\n",
    "        target = self.targets[idx]\n",
    "        sample = preprocess(self.samples[idx])\n",
    "        return (target, sample)"
   ]
  },
  {
   "cell_type": "code",
   "execution_count": 28,
   "metadata": {},
   "outputs": [],
   "source": [
    "train_ds = PlantDS(train_samples, train_labels)"
   ]
  },
  {
   "cell_type": "code",
   "execution_count": 30,
   "metadata": {},
   "outputs": [],
   "source": [
    "train_dloader = torch.utils.data.DataLoader(train_ds, batch_size=16, shuffle=True, num_workers=4)"
   ]
  },
  {
   "cell_type": "code",
   "execution_count": 31,
   "metadata": {},
   "outputs": [],
   "source": [
    "class PlantNet(nn.Module):\n",
    "    def __init__(self):\n",
    "        super(PlantNet, self).__init__()\n",
    "        "
   ]
  }
 ],
 "metadata": {
  "kernelspec": {
   "display_name": "Python 3",
   "language": "python",
   "name": "python3"
  },
  "language_info": {
   "codemirror_mode": {
    "name": "ipython",
    "version": 3
   },
   "file_extension": ".py",
   "mimetype": "text/x-python",
   "name": "python",
   "nbconvert_exporter": "python",
   "pygments_lexer": "ipython3",
   "version": "3.5.2"
  }
 },
 "nbformat": 4,
 "nbformat_minor": 4
}
