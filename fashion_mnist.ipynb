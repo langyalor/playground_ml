{
 "cells": [
  {
   "cell_type": "markdown",
   "metadata": {},
   "source": [
    "### Changelog\n",
    "#### 1. 使用原始数据，未做normalize，使用2层same padding(k_size=3,padding=1)卷积，步长为2的池化，两个全连接层，88.7%的准确率(Linux platform)\n",
    "#### 2. 和1中的所有操作相同的，但是做了normalize，准确率88.84%(linux platform)\n",
    "#### 3. 利用2中的regularization，将卷积核的大小改为5，padding为2，准确率为89.15%(windows platform)\n",
    "#### 4. 在3的基础上，更换optimizer算法由SGD变为Adam，准确率为89.59%(Linux platform)\n",
    "#### 5. 在2的基础上，更换optimizer算法由SGD变为Adam，准确率为89.9%(Linux platform)\n",
    "#### 6. 加入net.eval(),准确率上升到90.94%(Linux platform)\n",
    "#### 7. 加入一个多加入了一个全连接隐层，准确率上升到91.75%(Linux platform)\n",
    "#### 8. 全连接层隐层神经元比例调整为9:3:2之后，同时加入一个新的卷基层，准确率为91.89%(Linux platform)\n",
    "#### 9. 去掉第一个卷基层后的BN层，调整第三个卷基层的感受野为5x5，准确率为92.07%(Linux platform)\n",
    "#### 10. 提高感受野，准确率为92.28%(Linux platform)"
   ]
  },
  {
   "cell_type": "code",
   "execution_count": 1,
   "metadata": {},
   "outputs": [],
   "source": [
    "import numpy as np\n",
    "import torch\n",
    "import torch.nn as nn\n",
    "import torch.optim as optim\n",
    "import torch.nn.functional as F\n",
    "import matplotlib.pyplot as plt\n",
    "\n",
    "%matplotlib inline"
   ]
  },
  {
   "cell_type": "code",
   "execution_count": 2,
   "metadata": {},
   "outputs": [],
   "source": [
    "label_to_description = {0: 'T-shirt/top', 1: 'Trouser', 2: 'Pullover', 3: 'Dress',\n",
    "                        4: 'Coat', 5: 'Sandal', 6: 'Shirt',\n",
    "                       7: 'Sneaker', 8: 'Bag', 9: 'Ankle boot',\n",
    "                        }"
   ]
  },
  {
   "cell_type": "code",
   "execution_count": 3,
   "metadata": {},
   "outputs": [
    {
     "name": "stdout",
     "output_type": "stream",
     "text": [
      "torch.Size([60000, 28, 28]) torch.Size([60000])\n",
      "tensor(9)\n",
      "tensor(0)\n"
     ]
    }
   ],
   "source": [
    "path_to_datasets = '/home/lor/Datasets/FashionMNIST/FashionMNIST/processed/training.pt'\n",
    "# path_to_datasets = 'E:/data/FashionMNIST/FashionMNIST/processed/training.pt'\n",
    "samples = torch.load(path_to_datasets)\n",
    "features = samples[0]\n",
    "targets = samples[1]\n",
    "print(features.shape, targets.shape)\n",
    "print(targets.max())\n",
    "print(targets.min())"
   ]
  },
  {
   "cell_type": "code",
   "execution_count": 4,
   "metadata": {},
   "outputs": [
    {
     "data": {
      "image/png": "[encoded data removed]",
      "text/plain": [
       "<Figure size 432x288 with 2 Axes>"
      ]
     },
     "metadata": {
      "needs_background": "light"
     },
     "output_type": "display_data"
    }
   ],
   "source": [
    "ax = plt.subplot(2, 2, 1)\n",
    "plt.imshow(np.array(features[3]), cmap='gray')\n",
    "ax.set_title(label_to_description[targets.storage()[3]])\n",
    "ax = plt.subplot(2, 2, 2)\n",
    "plt.imshow(np.array(features[4]), cmap='gray')\n",
    "ax.set_title(label_to_description[targets.storage()[4]])\n",
    "plt.show()\n",
    "# plt.title(label_to_description[targets.storage()[3]])\n",
    "# label_to_description[targets.storage()[3]]"
   ]
  },
  {
   "cell_type": "code",
   "execution_count": 5,
   "metadata": {},
   "outputs": [],
   "source": [
    "from torch.utils.data import Dataset, DataLoader"
   ]
  },
  {
   "cell_type": "code",
   "execution_count": 6,
   "metadata": {},
   "outputs": [],
   "source": [
    "class UserDataset(Dataset):\n",
    "    def __init__(self, features, targets):\n",
    "        self.features = features\n",
    "        self.targets = targets\n",
    "        \n",
    "    def __len__(self):\n",
    "        return len(self.targets)\n",
    "    \n",
    "    def __getitem__(self, idx):\n",
    "        target = self.targets[idx]\n",
    "        feature = self.features[idx].unsqueeze(0).float()\n",
    "        feature = (feature - torch.min(feature)) / (torch.max(feature) - torch.min(feature))\n",
    "        return (target, feature)"
   ]
  },
  {
   "cell_type": "code",
   "execution_count": 7,
   "metadata": {},
   "outputs": [],
   "source": [
    "train_dataset = UserDataset(features, targets)\n",
    "train_dataloader = DataLoader(train_dataset, batch_size=32, shuffle=True, num_workers=4)"
   ]
  },
  {
   "cell_type": "code",
   "execution_count": 8,
   "metadata": {},
   "outputs": [
    {
     "data": {
      "text/plain": [
       "tensor([6, 9, 8, 4, 6, 5, 1, 8, 5, 4, 0, 1, 6, 7, 5, 2, 0, 8, 8, 3, 5, 6, 1, 9,\n",
       "        3, 3, 5, 8, 7, 3, 7, 4])"
      ]
     },
     "execution_count": 8,
     "metadata": {},
     "output_type": "execute_result"
    }
   ],
   "source": [
    "one_iter = next(iter(train_dataloader))\n",
    "one_iter[0].reshape(-1)"
   ]
  },
  {
   "cell_type": "code",
   "execution_count": 9,
   "metadata": {},
   "outputs": [
    {
     "data": {
      "image/png": "[encoded data removed]",
      "text/plain": [
       "<Figure size 432x288 with 10 Axes>"
      ]
     },
     "metadata": {
      "needs_background": "light"
     },
     "output_type": "display_data"
    }
   ],
   "source": [
    "for i in range(10):\n",
    "    ax = plt.subplot(2, 5, i + 1)\n",
    "    plt.imshow(one_iter[1][i][0], cmap='gray')\n",
    "    plt.axis('off')\n",
    "    ax.set_title(label_to_description[one_iter[0].storage()[i]])"
   ]
  },
  {
   "cell_type": "code",
   "execution_count": 52,
   "metadata": {},
   "outputs": [],
   "source": [
    "class Network(nn.Module):\n",
    "    def __init__(self):\n",
    "        super(Network, self).__init__()\n",
    "        \n",
    "        self.conv1 = nn.Sequential(\n",
    "                        nn.Conv2d(1, 8, kernel_size=(3, 3), stride=1, padding=1),\n",
    "                        nn.BatchNorm2d(8),\n",
    "                        nn.ReLU(),\n",
    "                        nn.Conv2d(8, 16, kernel_size=(5, 5), stride=1, padding=2),\n",
    "                        nn.BatchNorm2d(16),\n",
    "                        nn.ReLU(),\n",
    "                        nn.MaxPool2d(kernel_size=(2, 2), stride=2)\n",
    "        )\n",
    "        \n",
    "        self.conv2 = nn.Sequential(\n",
    "                        nn.Conv2d(16, 24, kernel_size=(5, 5), stride=1, padding=2),\n",
    "                        nn.BatchNorm2d(24),\n",
    "                        nn.ReLU(),\n",
    "                        nn.MaxPool2d(kernel_size=(2, 2), stride=2)\n",
    "        )\n",
    "        \n",
    "        self.fc1 = nn.Linear(7 * 7 * 24, 392)\n",
    "        self.fc2 = nn.Linear(392, 130)\n",
    "        self.fc3 = nn.Linear(130, 10)\n",
    "    \n",
    "    def forward(self, x):\n",
    "        out = self.conv1(x)\n",
    "        out = self.conv2(out)\n",
    "        out = out.reshape(out.shape[0], -1)\n",
    "        out = self.fc1(out)\n",
    "        out = self.fc2(F.relu(out))\n",
    "        res = self.fc3(F.relu(out))\n",
    "        \n",
    "        return res\n",
    "    \n",
    "def weight_init(m):\n",
    "    if isinstance(m, nn.Conv2d):\n",
    "        nn.init.kaiming_normal_(m.weight)\n",
    "        nn.init.zeros_(m.bias)\n",
    "    elif isinstance(m, nn.Linear):\n",
    "        nn.init.kaiming_normal_(m.weight)\n",
    "        nn.init.zeros_(m.bias)"
   ]
  },
  {
   "cell_type": "code",
   "execution_count": 53,
   "metadata": {},
   "outputs": [],
   "source": [
    "device = torch.device(\"cuda:0\" if torch.cuda.is_available() else \"cpu\")\n",
    "net = Network()\n",
    "# net.apply(weight_init)\n",
    "net.to(device)\n",
    "loss = nn.CrossEntropyLoss()\n",
    "# optimizer = optim.SGD(net.parameters(), lr=1e-3)\n",
    "optimizer = optim.Adam(net.parameters(), lr=1e-3)\n",
    "\n",
    "total_step = len(train_dataloader)"
   ]
  },
  {
   "cell_type": "code",
   "execution_count": 54,
   "metadata": {},
   "outputs": [
    {
     "name": "stdout",
     "output_type": "stream",
     "text": [
      "Epoch [1/10], Step [100/1875], Loss: 0.4644\n",
      "Epoch [1/10], Step [200/1875], Loss: 0.6604\n",
      "Epoch [1/10], Step [300/1875], Loss: 0.3230\n",
      "Epoch [1/10], Step [400/1875], Loss: 0.4240\n",
      "Epoch [1/10], Step [500/1875], Loss: 0.1231\n",
      "Epoch [1/10], Step [600/1875], Loss: 0.2521\n",
      "Epoch [1/10], Step [700/1875], Loss: 0.5229\n",
      "Epoch [1/10], Step [800/1875], Loss: 0.6741\n",
      "Epoch [1/10], Step [900/1875], Loss: 0.2102\n",
      "Epoch [1/10], Step [1000/1875], Loss: 0.1657\n",
      "Epoch [1/10], Step [1100/1875], Loss: 0.4025\n",
      "Epoch [1/10], Step [1200/1875], Loss: 0.5082\n",
      "Epoch [1/10], Step [1300/1875], Loss: 0.2101\n",
      "Epoch [1/10], Step [1400/1875], Loss: 0.4263\n",
      "Epoch [1/10], Step [1500/1875], Loss: 0.4069\n",
      "Epoch [1/10], Step [1600/1875], Loss: 0.3247\n",
      "Epoch [1/10], Step [1700/1875], Loss: 0.2685\n",
      "Epoch [1/10], Step [1800/1875], Loss: 0.4243\n",
      "Epoch [2/10], Step [100/1875], Loss: 0.3110\n",
      "Epoch [2/10], Step [200/1875], Loss: 0.1710\n",
      "Epoch [2/10], Step [300/1875], Loss: 0.0907\n",
      "Epoch [2/10], Step [400/1875], Loss: 0.1736\n",
      "Epoch [2/10], Step [500/1875], Loss: 0.1996\n",
      "Epoch [2/10], Step [600/1875], Loss: 0.4925\n",
      "Epoch [2/10], Step [700/1875], Loss: 0.3339\n",
      "Epoch [2/10], Step [800/1875], Loss: 0.1230\n",
      "Epoch [2/10], Step [900/1875], Loss: 0.2861\n",
      "Epoch [2/10], Step [1000/1875], Loss: 0.5674\n",
      "Epoch [2/10], Step [1100/1875], Loss: 0.4597\n",
      "Epoch [2/10], Step [1200/1875], Loss: 0.1804\n",
      "Epoch [2/10], Step [1300/1875], Loss: 0.1014\n",
      "Epoch [2/10], Step [1400/1875], Loss: 0.0465\n",
      "Epoch [2/10], Step [1500/1875], Loss: 0.0888\n",
      "Epoch [2/10], Step [1600/1875], Loss: 0.1885\n",
      "Epoch [2/10], Step [1700/1875], Loss: 0.1457\n",
      "Epoch [2/10], Step [1800/1875], Loss: 0.1753\n",
      "Epoch [3/10], Step [100/1875], Loss: 0.1163\n",
      "Epoch [3/10], Step [200/1875], Loss: 0.1676\n",
      "Epoch [3/10], Step [300/1875], Loss: 0.0516\n",
      "Epoch [3/10], Step [400/1875], Loss: 0.0806\n",
      "Epoch [3/10], Step [500/1875], Loss: 0.2162\n",
      "Epoch [3/10], Step [600/1875], Loss: 0.0694\n",
      "Epoch [3/10], Step [700/1875], Loss: 0.1247\n",
      "Epoch [3/10], Step [800/1875], Loss: 0.2566\n",
      "Epoch [3/10], Step [900/1875], Loss: 0.0573\n",
      "Epoch [3/10], Step [1000/1875], Loss: 0.1617\n",
      "Epoch [3/10], Step [1100/1875], Loss: 0.2440\n",
      "Epoch [3/10], Step [1200/1875], Loss: 0.3168\n",
      "Epoch [3/10], Step [1300/1875], Loss: 0.1599\n",
      "Epoch [3/10], Step [1400/1875], Loss: 0.3453\n",
      "Epoch [3/10], Step [1500/1875], Loss: 0.1023\n",
      "Epoch [3/10], Step [1600/1875], Loss: 0.3404\n",
      "Epoch [3/10], Step [1700/1875], Loss: 0.2517\n",
      "Epoch [3/10], Step [1800/1875], Loss: 0.0637\n",
      "Epoch [4/10], Step [100/1875], Loss: 0.1316\n",
      "Epoch [4/10], Step [200/1875], Loss: 0.3560\n",
      "Epoch [4/10], Step [300/1875], Loss: 0.1260\n",
      "Epoch [4/10], Step [400/1875], Loss: 0.3773\n",
      "Epoch [4/10], Step [500/1875], Loss: 0.1110\n",
      "Epoch [4/10], Step [600/1875], Loss: 0.3138\n",
      "Epoch [4/10], Step [700/1875], Loss: 0.2011\n",
      "Epoch [4/10], Step [800/1875], Loss: 0.1445\n",
      "Epoch [4/10], Step [900/1875], Loss: 0.1080\n",
      "Epoch [4/10], Step [1000/1875], Loss: 0.2857\n",
      "Epoch [4/10], Step [1100/1875], Loss: 0.1166\n",
      "Epoch [4/10], Step [1200/1875], Loss: 0.5918\n",
      "Epoch [4/10], Step [1300/1875], Loss: 0.1899\n",
      "Epoch [4/10], Step [1400/1875], Loss: 0.1152\n",
      "Epoch [4/10], Step [1500/1875], Loss: 0.2542\n",
      "Epoch [4/10], Step [1600/1875], Loss: 0.0679\n",
      "Epoch [4/10], Step [1700/1875], Loss: 0.1538\n",
      "Epoch [4/10], Step [1800/1875], Loss: 0.1400\n",
      "Epoch [5/10], Step [100/1875], Loss: 0.0995\n",
      "Epoch [5/10], Step [200/1875], Loss: 0.3108\n",
      "Epoch [5/10], Step [300/1875], Loss: 0.1583\n",
      "Epoch [5/10], Step [400/1875], Loss: 0.1344\n",
      "Epoch [5/10], Step [500/1875], Loss: 0.3435\n",
      "Epoch [5/10], Step [600/1875], Loss: 0.1741\n",
      "Epoch [5/10], Step [700/1875], Loss: 0.2216\n",
      "Epoch [5/10], Step [800/1875], Loss: 0.1241\n",
      "Epoch [5/10], Step [900/1875], Loss: 0.1860\n",
      "Epoch [5/10], Step [1000/1875], Loss: 0.1715\n",
      "Epoch [5/10], Step [1100/1875], Loss: 0.1125\n",
      "Epoch [5/10], Step [1200/1875], Loss: 0.1663\n",
      "Epoch [5/10], Step [1300/1875], Loss: 0.1761\n",
      "Epoch [5/10], Step [1400/1875], Loss: 0.1080\n",
      "Epoch [5/10], Step [1500/1875], Loss: 0.0632\n",
      "Epoch [5/10], Step [1600/1875], Loss: 0.2395\n",
      "Epoch [5/10], Step [1700/1875], Loss: 0.0646\n",
      "Epoch [5/10], Step [1800/1875], Loss: 0.1039\n",
      "Epoch [6/10], Step [100/1875], Loss: 0.2146\n",
      "Epoch [6/10], Step [200/1875], Loss: 0.1359\n",
      "Epoch [6/10], Step [300/1875], Loss: 0.1572\n",
      "Epoch [6/10], Step [400/1875], Loss: 0.2895\n",
      "Epoch [6/10], Step [500/1875], Loss: 0.0873\n",
      "Epoch [6/10], Step [600/1875], Loss: 0.1736\n",
      "Epoch [6/10], Step [700/1875], Loss: 0.1234\n",
      "Epoch [6/10], Step [800/1875], Loss: 0.1819\n",
      "Epoch [6/10], Step [900/1875], Loss: 0.1723\n",
      "Epoch [6/10], Step [1000/1875], Loss: 0.0330\n",
      "Epoch [6/10], Step [1100/1875], Loss: 0.1691\n",
      "Epoch [6/10], Step [1200/1875], Loss: 0.2529\n",
      "Epoch [6/10], Step [1300/1875], Loss: 0.0506\n",
      "Epoch [6/10], Step [1400/1875], Loss: 0.1103\n",
      "Epoch [6/10], Step [1500/1875], Loss: 0.0242\n",
      "Epoch [6/10], Step [1600/1875], Loss: 0.1653\n",
      "Epoch [6/10], Step [1700/1875], Loss: 0.2627\n",
      "Epoch [6/10], Step [1800/1875], Loss: 0.1893\n",
      "Epoch [7/10], Step [100/1875], Loss: 0.0441\n",
      "Epoch [7/10], Step [200/1875], Loss: 0.1162\n",
      "Epoch [7/10], Step [300/1875], Loss: 0.0543\n",
      "Epoch [7/10], Step [400/1875], Loss: 0.0373\n",
      "Epoch [7/10], Step [500/1875], Loss: 0.3145\n",
      "Epoch [7/10], Step [600/1875], Loss: 0.1135\n",
      "Epoch [7/10], Step [700/1875], Loss: 0.0386\n",
      "Epoch [7/10], Step [800/1875], Loss: 0.0341\n",
      "Epoch [7/10], Step [900/1875], Loss: 0.1090\n",
      "Epoch [7/10], Step [1000/1875], Loss: 0.1267\n",
      "Epoch [7/10], Step [1100/1875], Loss: 0.1705\n",
      "Epoch [7/10], Step [1200/1875], Loss: 0.3293\n",
      "Epoch [7/10], Step [1300/1875], Loss: 0.1318\n",
      "Epoch [7/10], Step [1400/1875], Loss: 0.0814\n",
      "Epoch [7/10], Step [1500/1875], Loss: 0.0684\n",
      "Epoch [7/10], Step [1600/1875], Loss: 0.0713\n",
      "Epoch [7/10], Step [1700/1875], Loss: 0.1972\n",
      "Epoch [7/10], Step [1800/1875], Loss: 0.2786\n",
      "Epoch [8/10], Step [100/1875], Loss: 0.0189\n",
      "Epoch [8/10], Step [200/1875], Loss: 0.0501\n",
      "Epoch [8/10], Step [300/1875], Loss: 0.1724\n",
      "Epoch [8/10], Step [400/1875], Loss: 0.0658\n",
      "Epoch [8/10], Step [500/1875], Loss: 0.0156\n",
      "Epoch [8/10], Step [600/1875], Loss: 0.0079\n",
      "Epoch [8/10], Step [700/1875], Loss: 0.0632\n",
      "Epoch [8/10], Step [800/1875], Loss: 0.0563\n",
      "Epoch [8/10], Step [900/1875], Loss: 0.0239\n",
      "Epoch [8/10], Step [1000/1875], Loss: 0.0953\n",
      "Epoch [8/10], Step [1100/1875], Loss: 0.0638\n",
      "Epoch [8/10], Step [1200/1875], Loss: 0.1105\n",
      "Epoch [8/10], Step [1300/1875], Loss: 0.0666\n",
      "Epoch [8/10], Step [1400/1875], Loss: 0.0386\n",
      "Epoch [8/10], Step [1500/1875], Loss: 0.0771\n",
      "Epoch [8/10], Step [1600/1875], Loss: 0.1181\n",
      "Epoch [8/10], Step [1700/1875], Loss: 0.0324\n",
      "Epoch [8/10], Step [1800/1875], Loss: 0.0837\n",
      "Epoch [9/10], Step [100/1875], Loss: 0.0555\n",
      "Epoch [9/10], Step [200/1875], Loss: 0.1352\n",
      "Epoch [9/10], Step [300/1875], Loss: 0.0647\n",
      "Epoch [9/10], Step [400/1875], Loss: 0.0642\n",
      "Epoch [9/10], Step [500/1875], Loss: 0.0373\n",
      "Epoch [9/10], Step [600/1875], Loss: 0.0782\n",
      "Epoch [9/10], Step [700/1875], Loss: 0.1708\n",
      "Epoch [9/10], Step [800/1875], Loss: 0.0100\n",
      "Epoch [9/10], Step [900/1875], Loss: 0.1075\n",
      "Epoch [9/10], Step [1000/1875], Loss: 0.0653\n",
      "Epoch [9/10], Step [1100/1875], Loss: 0.1196\n",
      "Epoch [9/10], Step [1200/1875], Loss: 0.0353\n",
      "Epoch [9/10], Step [1300/1875], Loss: 0.0520\n",
      "Epoch [9/10], Step [1400/1875], Loss: 0.0595\n",
      "Epoch [9/10], Step [1500/1875], Loss: 0.0203\n",
      "Epoch [9/10], Step [1600/1875], Loss: 0.0165\n",
      "Epoch [9/10], Step [1700/1875], Loss: 0.1227\n",
      "Epoch [9/10], Step [1800/1875], Loss: 0.0342\n",
      "Epoch [10/10], Step [100/1875], Loss: 0.0026\n",
      "Epoch [10/10], Step [200/1875], Loss: 0.0248\n",
      "Epoch [10/10], Step [300/1875], Loss: 0.0173\n",
      "Epoch [10/10], Step [400/1875], Loss: 0.0439\n",
      "Epoch [10/10], Step [500/1875], Loss: 0.0243\n",
      "Epoch [10/10], Step [600/1875], Loss: 0.0697\n",
      "Epoch [10/10], Step [700/1875], Loss: 0.0349\n",
      "Epoch [10/10], Step [800/1875], Loss: 0.0596\n",
      "Epoch [10/10], Step [900/1875], Loss: 0.2628\n",
      "Epoch [10/10], Step [1000/1875], Loss: 0.0637\n",
      "Epoch [10/10], Step [1100/1875], Loss: 0.0672\n",
      "Epoch [10/10], Step [1200/1875], Loss: 0.0532\n",
      "Epoch [10/10], Step [1300/1875], Loss: 0.1255\n",
      "Epoch [10/10], Step [1400/1875], Loss: 0.2994\n",
      "Epoch [10/10], Step [1500/1875], Loss: 0.0319\n",
      "Epoch [10/10], Step [1600/1875], Loss: 0.0925\n",
      "Epoch [10/10], Step [1700/1875], Loss: 0.0292\n",
      "Epoch [10/10], Step [1800/1875], Loss: 0.1110\n"
     ]
    }
   ],
   "source": [
    "num_epochs = 10\n",
    "net.train()\n",
    "for epoch in range(num_epochs):\n",
    "    for i, (target, feature) in enumerate(train_dataloader):\n",
    "        target, feature = target.to(device), feature.to(device)\n",
    "        out = net(feature)\n",
    "#         out = out.reshape(-1)\n",
    "        target = target.reshape(-1)\n",
    "        criterion = loss(out, target)\n",
    "        \n",
    "        optimizer.zero_grad()\n",
    "        criterion.backward()\n",
    "        optimizer.step()\n",
    "        \n",
    "        if (i + 1) % 100 == 0:\n",
    "            print('Epoch [{}/{}], Step [{}/{}], Loss: {:.4f}' \n",
    "                   .format(epoch+1, num_epochs, i+1, total_step, criterion.item()))\n",
    "        "
   ]
  },
  {
   "cell_type": "code",
   "execution_count": 55,
   "metadata": {},
   "outputs": [
    {
     "name": "stdout",
     "output_type": "stream",
     "text": [
      "torch.Size([10000, 28, 28])\n",
      "torch.Size([10000])\n"
     ]
    }
   ],
   "source": [
    "### 验证\n",
    "# test_path = 'E:/data/FashionMNIST/FashionMNIST/processed/test.pt'\n",
    "test_path = '/home/lor/Datasets/FashionMNIST/FashionMNIST/processed/test.pt'\n",
    "test_dataset = torch.load(test_path)\n",
    "print(test_dataset[0].shape)\n",
    "print(test_dataset[1].shape)"
   ]
  },
  {
   "cell_type": "code",
   "execution_count": 56,
   "metadata": {},
   "outputs": [],
   "source": [
    "test_dataset = UserDataset(test_dataset[0], test_dataset[1])\n",
    "test_dataloader = DataLoader(test_dataset, batch_size=1, shuffle=True, num_workers=4)"
   ]
  },
  {
   "cell_type": "code",
   "execution_count": 57,
   "metadata": {},
   "outputs": [
    {
     "name": "stdout",
     "output_type": "stream",
     "text": [
      "Accuracy: 92.28%\n"
     ]
    }
   ],
   "source": [
    "total = 10000\n",
    "pred_count = 0\n",
    "net.eval()\n",
    "for (target, feature) in test_dataloader:\n",
    "#     print(target.shape)\n",
    "#     print(feature.shape)\n",
    "    target = target.to(device)\n",
    "    feature = feature.to(device)\n",
    "    out = net(feature)\n",
    "#     print(torch.argmax(out, 1))\n",
    "#     print(target)\n",
    "#     print(torch.argmax(out, 1) == target)\n",
    "#     print((torch.argmax(out, 1) == target).sum().item())\n",
    "    pred_count = pred_count + (torch.argmax(out, 1) == target).sum().item()\n",
    "#     break\n",
    "print(\"Accuracy: {0}%\".format(100 * pred_count / total))"
   ]
  },
  {
   "cell_type": "code",
   "execution_count": 104,
   "metadata": {},
   "outputs": [],
   "source": [
    "# Save the model\n",
    "torch.save(net.state_dict(), './net.pt')"
   ]
  },
  {
   "cell_type": "code",
   "execution_count": 37,
   "metadata": {},
   "outputs": [
    {
     "data": {
      "text/plain": [
       "<All keys matched successfully>"
      ]
     },
     "execution_count": 37,
     "metadata": {},
     "output_type": "execute_result"
    }
   ],
   "source": [
    "# Load the model\n",
    "oth_net = Network()\n",
    "oth_net.load_state_dict(torch.load('./net.pt'))"
   ]
  },
  {
   "cell_type": "code",
   "execution_count": 38,
   "metadata": {},
   "outputs": [
    {
     "data": {
      "text/plain": [
       "Network(\n",
       "  (conv1): Sequential(\n",
       "    (0): Conv2d(1, 16, kernel_size=(3, 3), stride=(1, 1), padding=(1, 1))\n",
       "    (1): BatchNorm2d(16, eps=1e-05, momentum=0.1, affine=True, track_running_stats=True)\n",
       "    (2): ReLU()\n",
       "    (3): MaxPool2d(kernel_size=(2, 2), stride=2, padding=0, dilation=1, ceil_mode=False)\n",
       "  )\n",
       "  (conv2): Sequential(\n",
       "    (0): Conv2d(16, 24, kernel_size=(3, 3), stride=(1, 1), padding=(1, 1))\n",
       "    (1): BatchNorm2d(24, eps=1e-05, momentum=0.1, affine=True, track_running_stats=True)\n",
       "    (2): ReLU()\n",
       "    (3): MaxPool2d(kernel_size=(2, 2), stride=2, padding=0, dilation=1, ceil_mode=False)\n",
       "  )\n",
       "  (fc1): Linear(in_features=1176, out_features=32, bias=True)\n",
       "  (fc2): Linear(in_features=32, out_features=10, bias=True)\n",
       ")"
      ]
     },
     "execution_count": 38,
     "metadata": {},
     "output_type": "execute_result"
    }
   ],
   "source": [
    "oth_net.eval()"
   ]
  }
 ],
 "metadata": {
  "kernelspec": {
   "display_name": "Python 3",
   "language": "python",
   "name": "python3"
  },
  "language_info": {
   "codemirror_mode": {
    "name": "ipython",
    "version": 3
   },
   "file_extension": ".py",
   "mimetype": "text/x-python",
   "name": "python",
   "nbconvert_exporter": "python",
   "pygments_lexer": "ipython3",
   "version": "3.5.2"
  }
 },
 "nbformat": 4,
 "nbformat_minor": 4
}
