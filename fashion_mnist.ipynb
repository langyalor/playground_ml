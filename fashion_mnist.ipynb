{
 "cells": [
  {
   "cell_type": "markdown",
   "metadata": {},
   "source": [
    "### Changelog\n",
    "#### 1. 使用原始数据，未做normalize，使用2层same padding(k_size=3,padding=1)卷积，步长为2的池化，两个全连接层，88.7%的准确率(Linux platform)\n",
    "#### 2. 和1中的所有操作相同的，但是做了normalize，准确率88.84%(linux platform)\n",
    "#### 3. 利用2中的regularization，将卷积核的大小改为5，padding为2，准确率为89.15%(windows platform)\n",
    "#### 4. 在3的基础上，更换optimizer算法由SGD变为Adam，准确率为89.59%(Linux platform)\n",
    "#### 5. 在2的基础上，更换optimizer算法由SGD变为Adam，准确率为89.9%(Linux platform)\n",
    "#### 6. 加入net.eval(),准确率上升到90.94%(Linux platform)\n",
    "#### 7. 加入一个多加入了一个全连接隐层，准确率上升到91.75%(Linux platform)\n",
    "#### 8. 全连接层隐层神经元比例调整为9:3:2之后，同时加入一个新的卷基层，准确率为91.89%(Linux platform)"
   ]
  },
  {
   "cell_type": "code",
   "execution_count": 1,
   "metadata": {},
   "outputs": [],
   "source": [
    "import numpy as np\n",
    "import torch\n",
    "import torch.nn as nn\n",
    "import torch.optim as optim\n",
    "import torch.nn.functional as F\n",
    "import matplotlib.pyplot as plt\n",
    "\n",
    "%matplotlib inline"
   ]
  },
  {
   "cell_type": "code",
   "execution_count": 2,
   "metadata": {},
   "outputs": [],
   "source": [
    "label_to_description = {0: 'T-shirt/top', 1: 'Trouser', 2: 'Pullover', 3: 'Dress',\n",
    "                        4: 'Coat', 5: 'Sandal', 6: 'Shirt',\n",
    "                       7: 'Sneaker', 8: 'Bag', 9: 'Ankle boot',\n",
    "                        }"
   ]
  },
  {
   "cell_type": "code",
   "execution_count": 3,
   "metadata": {},
   "outputs": [
    {
     "name": "stdout",
     "output_type": "stream",
     "text": [
      "torch.Size([60000, 28, 28]) torch.Size([60000])\n",
      "tensor(9)\n",
      "tensor(0)\n"
     ]
    }
   ],
   "source": [
    "path_to_datasets = '/home/lor/Datasets/FashionMNIST/FashionMNIST/processed/training.pt'\n",
    "# path_to_datasets = 'E:/data/FashionMNIST/FashionMNIST/processed/training.pt'\n",
    "samples = torch.load(path_to_datasets)\n",
    "features = samples[0]\n",
    "targets = samples[1]\n",
    "print(features.shape, targets.shape)\n",
    "print(targets.max())\n",
    "print(targets.min())"
   ]
  },
  {
   "cell_type": "code",
   "execution_count": 4,
   "metadata": {},
   "outputs": [
    {
     "data": {
      "image/png": "[encoded data removed]",
      "text/plain": [
       "<Figure size 432x288 with 2 Axes>"
      ]
     },
     "metadata": {
      "needs_background": "light"
     },
     "output_type": "display_data"
    }
   ],
   "source": [
    "ax = plt.subplot(2, 2, 1)\n",
    "plt.imshow(np.array(features[3]), cmap='gray')\n",
    "ax.set_title(label_to_description[targets.storage()[3]])\n",
    "ax = plt.subplot(2, 2, 2)\n",
    "plt.imshow(np.array(features[4]), cmap='gray')\n",
    "ax.set_title(label_to_description[targets.storage()[4]])\n",
    "plt.show()\n",
    "# plt.title(label_to_description[targets.storage()[3]])\n",
    "# label_to_description[targets.storage()[3]]"
   ]
  },
  {
   "cell_type": "code",
   "execution_count": 5,
   "metadata": {},
   "outputs": [],
   "source": [
    "from torch.utils.data import Dataset, DataLoader"
   ]
  },
  {
   "cell_type": "code",
   "execution_count": 6,
   "metadata": {},
   "outputs": [],
   "source": [
    "class UserDataset(Dataset):\n",
    "    def __init__(self, features, targets):\n",
    "        self.features = features\n",
    "        self.targets = targets\n",
    "        \n",
    "    def __len__(self):\n",
    "        return len(self.targets)\n",
    "    \n",
    "    def __getitem__(self, idx):\n",
    "        target = self.targets[idx]\n",
    "        feature = self.features[idx].unsqueeze(0).float()\n",
    "        feature = (feature - torch.min(feature)) / (torch.max(feature) - torch.min(feature))\n",
    "        return (target, feature)"
   ]
  },
  {
   "cell_type": "code",
   "execution_count": 7,
   "metadata": {},
   "outputs": [],
   "source": [
    "train_dataset = UserDataset(features, targets)\n",
    "train_dataloader = DataLoader(train_dataset, batch_size=32, shuffle=True, num_workers=4)"
   ]
  },
  {
   "cell_type": "code",
   "execution_count": 8,
   "metadata": {},
   "outputs": [
    {
     "data": {
      "text/plain": [
       "tensor([5, 3, 3, 5, 1, 3, 6, 8, 0, 5, 7, 6, 8, 8, 2, 5, 8, 7, 1, 3, 2, 2, 8, 9,\n",
       "        2, 7, 2, 4, 0, 8, 2, 3])"
      ]
     },
     "execution_count": 8,
     "metadata": {},
     "output_type": "execute_result"
    }
   ],
   "source": [
    "one_iter = next(iter(train_dataloader))\n",
    "one_iter[0].reshape(-1)"
   ]
  },
  {
   "cell_type": "code",
   "execution_count": 9,
   "metadata": {},
   "outputs": [
    {
     "data": {
      "image/png": "[encoded data removed]",
      "text/plain": [
       "<Figure size 432x288 with 10 Axes>"
      ]
     },
     "metadata": {
      "needs_background": "light"
     },
     "output_type": "display_data"
    }
   ],
   "source": [
    "for i in range(10):\n",
    "    ax = plt.subplot(2, 5, i + 1)\n",
    "    plt.imshow(one_iter[1][i][0], cmap='gray')\n",
    "    plt.axis('off')\n",
    "    ax.set_title(label_to_description[one_iter[0].storage()[i]])"
   ]
  },
  {
   "cell_type": "code",
   "execution_count": 38,
   "metadata": {},
   "outputs": [],
   "source": [
    "class Network(nn.Module):\n",
    "    def __init__(self):\n",
    "        super(Network, self).__init__()\n",
    "        \n",
    "        self.conv1 = nn.Sequential(\n",
    "                        nn.Conv2d(1, 6, kernel_size=(3, 3), stride=1, padding=1),\n",
    "#                         nn.BatchNorm2d(6),\n",
    "                        nn.ReLU(),\n",
    "                        nn.Conv2d(6, 16, kernel_size=(1, 1), stride=1, padding=0),\n",
    "                        nn.BatchNorm2d(16),\n",
    "                        nn.ReLU(),\n",
    "                        nn.MaxPool2d(kernel_size=(2, 2), stride=2)\n",
    "        )\n",
    "        \n",
    "        self.conv2 = nn.Sequential(\n",
    "                        nn.Conv2d(16, 24, kernel_size=(5, 5), stride=1, padding=2),\n",
    "                        nn.BatchNorm2d(24),\n",
    "                        nn.ReLU(),\n",
    "                        nn.MaxPool2d(kernel_size=(2, 2), stride=2)\n",
    "        )\n",
    "        \n",
    "        self.fc1 = nn.Linear(7 * 7 * 24, 392)\n",
    "        self.fc2 = nn.Linear(392, 260)\n",
    "        self.fc3 = nn.Linear(260, 10)\n",
    "    \n",
    "    def forward(self, x):\n",
    "        out = self.conv1(x)\n",
    "        out = self.conv2(out)\n",
    "        out = out.reshape(out.shape[0], -1)\n",
    "        out = self.fc1(out)\n",
    "        out = self.fc2(F.relu(out))\n",
    "        res = self.fc3(F.relu(out))\n",
    "        \n",
    "        return res"
   ]
  },
  {
   "cell_type": "code",
   "execution_count": 39,
   "metadata": {},
   "outputs": [],
   "source": [
    "device = torch.device(\"cuda:0\" if torch.cuda.is_available() else \"cpu\")\n",
    "net = Network()\n",
    "net.to(device)\n",
    "loss = nn.CrossEntropyLoss()\n",
    "# optimizer = optim.SGD(net.parameters(), lr=1e-3)\n",
    "optimizer = optim.Adam(net.parameters(), lr=1e-3)\n",
    "\n",
    "total_step = len(train_dataloader)"
   ]
  },
  {
   "cell_type": "code",
   "execution_count": 40,
   "metadata": {},
   "outputs": [
    {
     "name": "stdout",
     "output_type": "stream",
     "text": [
      "Epoch [1/10], Step [100/1875], Loss: 0.3381\n",
      "Epoch [1/10], Step [200/1875], Loss: 0.3248\n",
      "Epoch [1/10], Step [300/1875], Loss: 0.3800\n",
      "Epoch [1/10], Step [400/1875], Loss: 0.4162\n",
      "Epoch [1/10], Step [500/1875], Loss: 0.2317\n",
      "Epoch [1/10], Step [600/1875], Loss: 0.3621\n",
      "Epoch [1/10], Step [700/1875], Loss: 0.2735\n",
      "Epoch [1/10], Step [800/1875], Loss: 0.4175\n",
      "Epoch [1/10], Step [900/1875], Loss: 0.2340\n",
      "Epoch [1/10], Step [1000/1875], Loss: 0.2130\n",
      "Epoch [1/10], Step [1100/1875], Loss: 0.2588\n",
      "Epoch [1/10], Step [1200/1875], Loss: 0.2562\n",
      "Epoch [1/10], Step [1300/1875], Loss: 0.3082\n",
      "Epoch [1/10], Step [1400/1875], Loss: 0.2209\n",
      "Epoch [1/10], Step [1500/1875], Loss: 0.5109\n",
      "Epoch [1/10], Step [1600/1875], Loss: 0.1359\n",
      "Epoch [1/10], Step [1700/1875], Loss: 0.3585\n",
      "Epoch [1/10], Step [1800/1875], Loss: 0.3209\n",
      "Epoch [2/10], Step [100/1875], Loss: 0.3526\n",
      "Epoch [2/10], Step [200/1875], Loss: 0.4881\n",
      "Epoch [2/10], Step [300/1875], Loss: 0.2085\n",
      "Epoch [2/10], Step [400/1875], Loss: 0.3012\n",
      "Epoch [2/10], Step [500/1875], Loss: 0.1961\n",
      "Epoch [2/10], Step [600/1875], Loss: 0.1956\n",
      "Epoch [2/10], Step [700/1875], Loss: 0.2916\n",
      "Epoch [2/10], Step [800/1875], Loss: 0.1711\n",
      "Epoch [2/10], Step [900/1875], Loss: 0.2730\n",
      "Epoch [2/10], Step [1000/1875], Loss: 0.6032\n",
      "Epoch [2/10], Step [1100/1875], Loss: 0.1754\n",
      "Epoch [2/10], Step [1200/1875], Loss: 0.2451\n",
      "Epoch [2/10], Step [1300/1875], Loss: 0.1868\n",
      "Epoch [2/10], Step [1400/1875], Loss: 0.3225\n",
      "Epoch [2/10], Step [1500/1875], Loss: 0.1398\n",
      "Epoch [2/10], Step [1600/1875], Loss: 0.2617\n",
      "Epoch [2/10], Step [1700/1875], Loss: 0.1363\n",
      "Epoch [2/10], Step [1800/1875], Loss: 0.3829\n",
      "Epoch [3/10], Step [100/1875], Loss: 0.3236\n",
      "Epoch [3/10], Step [200/1875], Loss: 0.5529\n",
      "Epoch [3/10], Step [300/1875], Loss: 0.1365\n",
      "Epoch [3/10], Step [400/1875], Loss: 0.0785\n",
      "Epoch [3/10], Step [500/1875], Loss: 0.2111\n",
      "Epoch [3/10], Step [600/1875], Loss: 0.1334\n",
      "Epoch [3/10], Step [700/1875], Loss: 0.1457\n",
      "Epoch [3/10], Step [800/1875], Loss: 0.2580\n",
      "Epoch [3/10], Step [900/1875], Loss: 0.4142\n",
      "Epoch [3/10], Step [1000/1875], Loss: 0.3072\n",
      "Epoch [3/10], Step [1100/1875], Loss: 0.3081\n",
      "Epoch [3/10], Step [1200/1875], Loss: 0.5291\n",
      "Epoch [3/10], Step [1300/1875], Loss: 0.4481\n",
      "Epoch [3/10], Step [1400/1875], Loss: 0.1184\n",
      "Epoch [3/10], Step [1500/1875], Loss: 0.4845\n",
      "Epoch [3/10], Step [1600/1875], Loss: 0.3943\n",
      "Epoch [3/10], Step [1700/1875], Loss: 0.3415\n",
      "Epoch [3/10], Step [1800/1875], Loss: 0.1106\n",
      "Epoch [4/10], Step [100/1875], Loss: 0.3382\n",
      "Epoch [4/10], Step [200/1875], Loss: 0.0827\n",
      "Epoch [4/10], Step [300/1875], Loss: 0.0526\n",
      "Epoch [4/10], Step [400/1875], Loss: 0.1991\n",
      "Epoch [4/10], Step [500/1875], Loss: 0.0791\n",
      "Epoch [4/10], Step [600/1875], Loss: 0.1072\n",
      "Epoch [4/10], Step [700/1875], Loss: 0.1400\n",
      "Epoch [4/10], Step [800/1875], Loss: 0.1363\n",
      "Epoch [4/10], Step [900/1875], Loss: 0.1275\n",
      "Epoch [4/10], Step [1000/1875], Loss: 0.3041\n",
      "Epoch [4/10], Step [1100/1875], Loss: 0.3989\n",
      "Epoch [4/10], Step [1200/1875], Loss: 0.1173\n",
      "Epoch [4/10], Step [1300/1875], Loss: 0.2070\n",
      "Epoch [4/10], Step [1400/1875], Loss: 0.0597\n",
      "Epoch [4/10], Step [1500/1875], Loss: 0.2110\n",
      "Epoch [4/10], Step [1600/1875], Loss: 0.1808\n",
      "Epoch [4/10], Step [1700/1875], Loss: 0.2172\n",
      "Epoch [4/10], Step [1800/1875], Loss: 0.0937\n",
      "Epoch [5/10], Step [100/1875], Loss: 0.2947\n",
      "Epoch [5/10], Step [200/1875], Loss: 0.0365\n",
      "Epoch [5/10], Step [300/1875], Loss: 0.0719\n",
      "Epoch [5/10], Step [400/1875], Loss: 0.0944\n",
      "Epoch [5/10], Step [500/1875], Loss: 0.0586\n",
      "Epoch [5/10], Step [600/1875], Loss: 0.1996\n",
      "Epoch [5/10], Step [700/1875], Loss: 0.2259\n",
      "Epoch [5/10], Step [800/1875], Loss: 0.1570\n",
      "Epoch [5/10], Step [900/1875], Loss: 0.0322\n",
      "Epoch [5/10], Step [1000/1875], Loss: 0.4025\n",
      "Epoch [5/10], Step [1100/1875], Loss: 0.0650\n",
      "Epoch [5/10], Step [1200/1875], Loss: 0.1132\n",
      "Epoch [5/10], Step [1300/1875], Loss: 0.1315\n",
      "Epoch [5/10], Step [1400/1875], Loss: 0.1218\n",
      "Epoch [5/10], Step [1500/1875], Loss: 0.1493\n",
      "Epoch [5/10], Step [1600/1875], Loss: 0.2471\n",
      "Epoch [5/10], Step [1700/1875], Loss: 0.0700\n",
      "Epoch [5/10], Step [1800/1875], Loss: 0.1856\n",
      "Epoch [6/10], Step [100/1875], Loss: 0.0625\n",
      "Epoch [6/10], Step [200/1875], Loss: 0.1087\n",
      "Epoch [6/10], Step [300/1875], Loss: 0.1166\n",
      "Epoch [6/10], Step [400/1875], Loss: 0.1568\n",
      "Epoch [6/10], Step [500/1875], Loss: 0.0970\n",
      "Epoch [6/10], Step [600/1875], Loss: 0.2434\n",
      "Epoch [6/10], Step [700/1875], Loss: 0.1454\n",
      "Epoch [6/10], Step [800/1875], Loss: 0.1022\n",
      "Epoch [6/10], Step [900/1875], Loss: 0.1156\n",
      "Epoch [6/10], Step [1000/1875], Loss: 0.1086\n",
      "Epoch [6/10], Step [1100/1875], Loss: 0.1484\n",
      "Epoch [6/10], Step [1200/1875], Loss: 0.1716\n",
      "Epoch [6/10], Step [1300/1875], Loss: 0.0770\n",
      "Epoch [6/10], Step [1400/1875], Loss: 0.0840\n",
      "Epoch [6/10], Step [1500/1875], Loss: 0.1478\n",
      "Epoch [6/10], Step [1600/1875], Loss: 0.1203\n",
      "Epoch [6/10], Step [1700/1875], Loss: 0.0267\n",
      "Epoch [6/10], Step [1800/1875], Loss: 0.0712\n",
      "Epoch [7/10], Step [100/1875], Loss: 0.0783\n",
      "Epoch [7/10], Step [200/1875], Loss: 0.2305\n",
      "Epoch [7/10], Step [300/1875], Loss: 0.0889\n",
      "Epoch [7/10], Step [400/1875], Loss: 0.0544\n",
      "Epoch [7/10], Step [500/1875], Loss: 0.2755\n",
      "Epoch [7/10], Step [600/1875], Loss: 0.0603\n",
      "Epoch [7/10], Step [700/1875], Loss: 0.1096\n",
      "Epoch [7/10], Step [800/1875], Loss: 0.2526\n",
      "Epoch [7/10], Step [900/1875], Loss: 0.1347\n",
      "Epoch [7/10], Step [1000/1875], Loss: 0.3619\n",
      "Epoch [7/10], Step [1100/1875], Loss: 0.1248\n",
      "Epoch [7/10], Step [1200/1875], Loss: 0.1329\n",
      "Epoch [7/10], Step [1300/1875], Loss: 0.1026\n",
      "Epoch [7/10], Step [1400/1875], Loss: 0.1036\n",
      "Epoch [7/10], Step [1500/1875], Loss: 0.0136\n",
      "Epoch [7/10], Step [1600/1875], Loss: 0.1919\n",
      "Epoch [7/10], Step [1700/1875], Loss: 0.0507\n",
      "Epoch [7/10], Step [1800/1875], Loss: 0.1179\n",
      "Epoch [8/10], Step [100/1875], Loss: 0.0581\n",
      "Epoch [8/10], Step [200/1875], Loss: 0.1075\n",
      "Epoch [8/10], Step [300/1875], Loss: 0.1300\n",
      "Epoch [8/10], Step [400/1875], Loss: 0.2833\n",
      "Epoch [8/10], Step [500/1875], Loss: 0.0324\n",
      "Epoch [8/10], Step [600/1875], Loss: 0.0467\n",
      "Epoch [8/10], Step [700/1875], Loss: 0.0837\n",
      "Epoch [8/10], Step [800/1875], Loss: 0.0773\n",
      "Epoch [8/10], Step [900/1875], Loss: 0.0814\n",
      "Epoch [8/10], Step [1000/1875], Loss: 0.2101\n",
      "Epoch [8/10], Step [1100/1875], Loss: 0.0374\n",
      "Epoch [8/10], Step [1200/1875], Loss: 0.0744\n",
      "Epoch [8/10], Step [1300/1875], Loss: 0.1046\n",
      "Epoch [8/10], Step [1400/1875], Loss: 0.0961\n",
      "Epoch [8/10], Step [1500/1875], Loss: 0.1185\n",
      "Epoch [8/10], Step [1600/1875], Loss: 0.2536\n",
      "Epoch [8/10], Step [1700/1875], Loss: 0.0575\n",
      "Epoch [8/10], Step [1800/1875], Loss: 0.0755\n",
      "Epoch [9/10], Step [100/1875], Loss: 0.1904\n",
      "Epoch [9/10], Step [200/1875], Loss: 0.0644\n",
      "Epoch [9/10], Step [300/1875], Loss: 0.0990\n",
      "Epoch [9/10], Step [400/1875], Loss: 0.0214\n",
      "Epoch [9/10], Step [500/1875], Loss: 0.2179\n",
      "Epoch [9/10], Step [600/1875], Loss: 0.0913\n",
      "Epoch [9/10], Step [700/1875], Loss: 0.0947\n",
      "Epoch [9/10], Step [800/1875], Loss: 0.0482\n",
      "Epoch [9/10], Step [900/1875], Loss: 0.0042\n",
      "Epoch [9/10], Step [1000/1875], Loss: 0.1041\n",
      "Epoch [9/10], Step [1100/1875], Loss: 0.1644\n",
      "Epoch [9/10], Step [1200/1875], Loss: 0.1318\n",
      "Epoch [9/10], Step [1300/1875], Loss: 0.0866\n",
      "Epoch [9/10], Step [1400/1875], Loss: 0.0377\n",
      "Epoch [9/10], Step [1500/1875], Loss: 0.0826\n",
      "Epoch [9/10], Step [1600/1875], Loss: 0.0425\n",
      "Epoch [9/10], Step [1700/1875], Loss: 0.0067\n",
      "Epoch [9/10], Step [1800/1875], Loss: 0.0524\n",
      "Epoch [10/10], Step [100/1875], Loss: 0.0250\n",
      "Epoch [10/10], Step [200/1875], Loss: 0.1793\n",
      "Epoch [10/10], Step [300/1875], Loss: 0.1762\n",
      "Epoch [10/10], Step [400/1875], Loss: 0.2184\n",
      "Epoch [10/10], Step [500/1875], Loss: 0.2301\n",
      "Epoch [10/10], Step [600/1875], Loss: 0.1400\n",
      "Epoch [10/10], Step [700/1875], Loss: 0.1051\n",
      "Epoch [10/10], Step [800/1875], Loss: 0.0236\n",
      "Epoch [10/10], Step [900/1875], Loss: 0.0046\n",
      "Epoch [10/10], Step [1000/1875], Loss: 0.0378\n",
      "Epoch [10/10], Step [1100/1875], Loss: 0.0511\n",
      "Epoch [10/10], Step [1200/1875], Loss: 0.0252\n",
      "Epoch [10/10], Step [1300/1875], Loss: 0.1178\n",
      "Epoch [10/10], Step [1400/1875], Loss: 0.1141\n",
      "Epoch [10/10], Step [1500/1875], Loss: 0.0338\n",
      "Epoch [10/10], Step [1600/1875], Loss: 0.0038\n",
      "Epoch [10/10], Step [1700/1875], Loss: 0.2129\n",
      "Epoch [10/10], Step [1800/1875], Loss: 0.0340\n"
     ]
    }
   ],
   "source": [
    "num_epochs = 10\n",
    "net.train()\n",
    "for epoch in range(num_epochs):\n",
    "    for i, (target, feature) in enumerate(train_dataloader):\n",
    "        target, feature = target.to(device), feature.to(device)\n",
    "        out = net(feature)\n",
    "#         out = out.reshape(-1)\n",
    "        target = target.reshape(-1)\n",
    "        criterion = loss(out, target)\n",
    "        \n",
    "        optimizer.zero_grad()\n",
    "        criterion.backward()\n",
    "        optimizer.step()\n",
    "        \n",
    "        if (i + 1) % 100 == 0:\n",
    "            print('Epoch [{}/{}], Step [{}/{}], Loss: {:.4f}' \n",
    "                   .format(epoch+1, num_epochs, i+1, total_step, criterion.item()))\n",
    "        "
   ]
  },
  {
   "cell_type": "code",
   "execution_count": 41,
   "metadata": {},
   "outputs": [
    {
     "name": "stdout",
     "output_type": "stream",
     "text": [
      "torch.Size([10000, 28, 28])\n",
      "torch.Size([10000])\n"
     ]
    }
   ],
   "source": [
    "### 验证\n",
    "# test_path = 'E:/data/FashionMNIST/FashionMNIST/processed/test.pt'\n",
    "test_path = '/home/lor/Datasets/FashionMNIST/FashionMNIST/processed/test.pt'\n",
    "test_dataset = torch.load(test_path)\n",
    "print(test_dataset[0].shape)\n",
    "print(test_dataset[1].shape)"
   ]
  },
  {
   "cell_type": "code",
   "execution_count": 42,
   "metadata": {},
   "outputs": [],
   "source": [
    "test_dataset = UserDataset(test_dataset[0], test_dataset[1])\n",
    "test_dataloader = DataLoader(test_dataset, batch_size=1, shuffle=True, num_workers=4)"
   ]
  },
  {
   "cell_type": "code",
   "execution_count": 43,
   "metadata": {},
   "outputs": [
    {
     "name": "stdout",
     "output_type": "stream",
     "text": [
      "Accuracy: 92.07%\n"
     ]
    }
   ],
   "source": [
    "total = 10000\n",
    "pred_count = 0\n",
    "net.eval()\n",
    "for (target, feature) in test_dataloader:\n",
    "#     print(target.shape)\n",
    "#     print(feature.shape)\n",
    "    target = target.to(device)\n",
    "    feature = feature.to(device)\n",
    "    out = net(feature)\n",
    "#     print(torch.argmax(out, 1))\n",
    "#     print(target)\n",
    "#     print(torch.argmax(out, 1) == target)\n",
    "#     print((torch.argmax(out, 1) == target).sum().item())\n",
    "    pred_count = pred_count + (torch.argmax(out, 1) == target).sum().item()\n",
    "#     break\n",
    "print(\"Accuracy: {0}%\".format(100 * pred_count / total))"
   ]
  },
  {
   "cell_type": "code",
   "execution_count": 104,
   "metadata": {},
   "outputs": [],
   "source": [
    "# Save the model\n",
    "torch.save(net.state_dict(), './net.pt')"
   ]
  },
  {
   "cell_type": "code",
   "execution_count": 37,
   "metadata": {},
   "outputs": [
    {
     "data": {
      "text/plain": [
       "<All keys matched successfully>"
      ]
     },
     "execution_count": 37,
     "metadata": {},
     "output_type": "execute_result"
    }
   ],
   "source": [
    "# Load the model\n",
    "oth_net = Network()\n",
    "oth_net.load_state_dict(torch.load('./net.pt'))"
   ]
  },
  {
   "cell_type": "code",
   "execution_count": 38,
   "metadata": {},
   "outputs": [
    {
     "data": {
      "text/plain": [
       "Network(\n",
       "  (conv1): Sequential(\n",
       "    (0): Conv2d(1, 16, kernel_size=(3, 3), stride=(1, 1), padding=(1, 1))\n",
       "    (1): BatchNorm2d(16, eps=1e-05, momentum=0.1, affine=True, track_running_stats=True)\n",
       "    (2): ReLU()\n",
       "    (3): MaxPool2d(kernel_size=(2, 2), stride=2, padding=0, dilation=1, ceil_mode=False)\n",
       "  )\n",
       "  (conv2): Sequential(\n",
       "    (0): Conv2d(16, 24, kernel_size=(3, 3), stride=(1, 1), padding=(1, 1))\n",
       "    (1): BatchNorm2d(24, eps=1e-05, momentum=0.1, affine=True, track_running_stats=True)\n",
       "    (2): ReLU()\n",
       "    (3): MaxPool2d(kernel_size=(2, 2), stride=2, padding=0, dilation=1, ceil_mode=False)\n",
       "  )\n",
       "  (fc1): Linear(in_features=1176, out_features=32, bias=True)\n",
       "  (fc2): Linear(in_features=32, out_features=10, bias=True)\n",
       ")"
      ]
     },
     "execution_count": 38,
     "metadata": {},
     "output_type": "execute_result"
    }
   ],
   "source": [
    "oth_net.eval()"
   ]
  }
 ],
 "metadata": {
  "kernelspec": {
   "display_name": "Python 3",
   "language": "python",
   "name": "python3"
  },
  "language_info": {
   "codemirror_mode": {
    "name": "ipython",
    "version": 3
   },
   "file_extension": ".py",
   "mimetype": "text/x-python",
   "name": "python",
   "nbconvert_exporter": "python",
   "pygments_lexer": "ipython3",
   "version": "3.5.2"
  }
 },
 "nbformat": 4,
 "nbformat_minor": 4
}
